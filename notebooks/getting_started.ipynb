{
 "cells": [
  {
   "cell_type": "markdown",
   "metadata": {},
   "source": [
    "# Getting Started with Sketches\n",
    "\n",
    "This notebook introduces probabilistic data structures (sketches) and demonstrates their usage."
   ]
  },
  {
   "cell_type": "code",
   "execution_count": null,
   "metadata": {},
   "outputs": [],
   "source": [
    "import sketches\n",
    "import numpy as np\n",
    "import pandas as pd\n",
    "import matplotlib.pyplot as plt\n",
    "%matplotlib inline"
   ]
  },
  {
   "cell_type": "markdown",
   "metadata": {},
   "source": [
    "## 1. What are Probabilistic Data Structures?\n",
    "\n",
    "Probabilistic data structures trade perfect accuracy for massive space savings. They're useful when:\n",
    "- Exact counts aren't critical\n",
    "- Data is too large to store entirely\n",
    "- Real-time processing is required"
   ]
  },
  {
   "cell_type": "markdown",
   "metadata": {},
   "source": [
    "## 2. HyperLogLog - Counting Unique Elements"
   ]
  },
  {
   "cell_type": "code",
   "execution_count": null,
   "metadata": {},
   "outputs": [],
   "source": [
    "# Create a HyperLogLog sketch\n",
    "hll = sketches.HllSketch(precision=12)\n",
    "\n",
    "# Add elements\n",
    "for i in range(10000):\n",
    "    hll.update(f\"user_{i}\")\n",
    "\n",
    "# Get estimate\n",
    "print(f\"Actual unique elements: 10,000\")\n",
    "print(f\"HLL estimate: {hll.estimate():.0f}\")\n",
    "print(f\"Error: {abs(hll.estimate() - 10000) / 10000 * 100:.2f}%\")"
   ]
  },
  {
   "cell_type": "markdown",
   "metadata": {},
   "source": [
    "## 3. Memory Efficiency Demonstration"
   ]
  },
  {
   "cell_type": "code",
   "execution_count": null,
   "metadata": {},
   "outputs": [],
   "source": [
    "# Compare memory usage: exact counting vs HLL\n",
    "import sys\n",
    "\n",
    "# Exact counting with a set\n",
    "exact_set = set()\n",
    "for i in range(100000):\n",
    "    exact_set.add(f\"item_{i}\")\n",
    "\n",
    "# HLL counting\n",
    "hll = sketches.HllSketch(precision=14)\n",
    "for i in range(100000):\n",
    "    hll.update(f\"item_{i}\")\n",
    "\n",
    "print(f\"Exact set memory: ~{sys.getsizeof(exact_set):,} bytes\")\n",
    "print(f\"HLL memory: ~{len(hll.to_bytes()):,} bytes\")\n",
    "print(f\"Memory savings: {(1 - len(hll.to_bytes())/sys.getsizeof(exact_set)) * 100:.1f}%\")"
   ]
  },
  {
   "cell_type": "markdown",
   "metadata": {},
   "source": [
    "## 4. Theta Sketch - Set Operations"
   ]
  },
  {
   "cell_type": "code",
   "execution_count": null,
   "metadata": {},
   "outputs": [],
   "source": [
    "# Create two user sets with overlap\n",
    "website_a = sketches.ThetaSketch(lg_k=12)\n",
    "website_b = sketches.ThetaSketch(lg_k=12)\n",
    "\n",
    "# Website A users (0-5999)\n",
    "for i in range(6000):\n",
    "    website_a.update(f\"user_{i}\")\n",
    "\n",
    "# Website B users (4000-9999)\n",
    "for i in range(4000, 10000):\n",
    "    website_b.update(f\"user_{i}\")\n",
    "\n",
    "# Set operations\n",
    "union = website_a.union(website_b)\n",
    "intersection = website_a.intersect(website_b)\n",
    "a_only = website_a.difference(website_b)\n",
    "\n",
    "print(f\"Website A users: ~{website_a.estimate():.0f}\")\n",
    "print(f\"Website B users: ~{website_b.estimate():.0f}\")\n",
    "print(f\"Total unique users: ~{union.estimate():.0f}\")\n",
    "print(f\"Users on both sites: ~{intersection.estimate():.0f}\")\n",
    "print(f\"Users only on A: ~{a_only.estimate():.0f}\")"
   ]
  },
  {
   "cell_type": "markdown",
   "metadata": {},
   "source": [
    "## 5. Accuracy vs Precision Trade-off"
   ]
  },
  {
   "cell_type": "code",
   "execution_count": null,
   "metadata": {},
   "outputs": [],
   "source": [
    "# Test different precision levels\n",
    "precisions = [8, 10, 12, 14, 16]\n",
    "n_elements = 50000\n",
    "results = []\n",
    "\n",
    "for p in precisions:\n",
    "    hll = sketches.HllSketch(precision=p)\n",
    "    for i in range(n_elements):\n",
    "        hll.update(f\"element_{i}\")\n",
    "    \n",
    "    estimate = hll.estimate()\n",
    "    error = abs(estimate - n_elements) / n_elements * 100\n",
    "    memory = len(hll.to_bytes())\n",
    "    \n",
    "    results.append({\n",
    "        'precision': p,\n",
    "        'estimate': estimate,\n",
    "        'error_pct': error,\n",
    "        'memory_bytes': memory\n",
    "    })\n",
    "\n",
    "df = pd.DataFrame(results)\n",
    "print(df.to_string(index=False))\n",
    "\n",
    "# Visualize trade-off\n",
    "fig, (ax1, ax2) = plt.subplots(1, 2, figsize=(12, 4))\n",
    "\n",
    "ax1.plot(df['precision'], df['error_pct'], 'b-o')\n",
    "ax1.set_xlabel('Precision')\n",
    "ax1.set_ylabel('Error %')\n",
    "ax1.set_title('Precision vs Accuracy')\n",
    "ax1.grid(True)\n",
    "\n",
    "ax2.plot(df['precision'], df['memory_bytes'], 'r-o')\n",
    "ax2.set_xlabel('Precision')\n",
    "ax2.set_ylabel('Memory (bytes)')\n",
    "ax2.set_title('Precision vs Memory Usage')\n",
    "ax2.grid(True)\n",
    "\n",
    "plt.tight_layout()\n",
    "plt.show()"
   ]
  }
 ],
 "metadata": {
  "kernelspec": {
   "display_name": "Python 3",
   "language": "python",
   "name": "python3"
  },
  "language_info": {
   "codemirror_mode": {
    "name": "ipython",
    "version": 3
   },
   "file_extension": ".py",
   "mimetype": "text/x-python",
   "name": "python",
   "nbconvert_exporter": "python",
   "pygments_lexer": "ipython3",
   "version": "3.8.0"
  }
 },
 "nbformat": 4,
 "nbformat_minor": 4
}