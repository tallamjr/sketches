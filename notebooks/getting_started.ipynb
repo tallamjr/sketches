{
 "cells": [
  {
   "cell_type": "markdown",
   "metadata": {},
   "source": [
    "# Getting Started with Sketches\n",
    "\n",
    "This notebook introduces probabilistic data structures (sketches) and demonstrates their usage."
   ]
  },
  {
   "cell_type": "code",
   "metadata": {},
   "outputs": [],
   "source": "import sketches\nimport numpy as np\nimport polars as pl\nimport matplotlib.pyplot as plt\n%matplotlib inline"
  },
  {
   "cell_type": "markdown",
   "metadata": {},
   "source": [
    "## 1. What are Probabilistic Data Structures?\n",
    "\n",
    "Probabilistic data structures trade perfect accuracy for massive space savings. They're useful when:\n",
    "- Exact counts aren't critical\n",
    "- Data is too large to store entirely\n",
    "- Real-time processing is required"
   ]
  },
  {
   "cell_type": "markdown",
   "metadata": {},
   "source": [
    "## 2. HyperLogLog - Counting Unique Elements"
   ]
  },
  {
   "cell_type": "code",
   "metadata": {},
   "outputs": [],
   "source": "# Create a HyperLogLog sketch\nhll = sketches.HllSketch(12)  # lg_k parameter\n\n# Add elements\nfor i in range(10000):\n    hll.update(f\"user_{i}\")\n\n# Get estimate\nprint(f\"Actual unique elements: 10,000\")\nprint(f\"HLL estimate: {hll.estimate():.0f}\")\nprint(f\"Error: {abs(hll.estimate() - 10000) / 10000 * 100:.2f}%\")"
  },
  {
   "cell_type": "markdown",
   "metadata": {},
   "source": [
    "## 3. Memory Efficiency Demonstration"
   ]
  },
  {
   "cell_type": "code",
   "metadata": {},
   "outputs": [],
   "source": "# Compare memory usage: exact counting vs HLL\nimport sys\n\n# Exact counting with a set\nexact_set = set()\nfor i in range(100000):\n    exact_set.add(f\"item_{i}\")\n\n# HLL counting\nhll = sketches.HllSketch(14)  # lg_k parameter\nfor i in range(100000):\n    hll.update(f\"item_{i}\")\n\nprint(f\"Exact set memory: ~{sys.getsizeof(exact_set):,} bytes\")\nprint(f\"HLL memory: ~{len(hll.to_bytes()):,} bytes\")\nprint(f\"Memory savings: {(1 - len(hll.to_bytes())/sys.getsizeof(exact_set)) * 100:.1f}%\")"
  },
  {
   "cell_type": "markdown",
   "metadata": {},
   "source": [
    "## 4. Theta Sketch - Set Operations"
   ]
  },
  {
   "cell_type": "code",
   "metadata": {},
   "outputs": [],
   "source": "# Create two user sets with overlap\nwebsite_a = sketches.ThetaSketch(4096)  # k parameter\nwebsite_b = sketches.ThetaSketch(4096)  # k parameter\n\n# Website A users (0-5999)\nfor i in range(6000):\n    website_a.update(f\"user_{i}\")\n\n# Website B users (4000-9999)\nfor i in range(4000, 10000):\n    website_b.update(f\"user_{i}\")\n\n# Set operations\nunion = website_a.union(website_b)\nintersection = website_a.intersect(website_b)\na_only = website_a.difference(website_b)\n\nprint(f\"Website A users: ~{website_a.estimate():.0f}\")\nprint(f\"Website B users: ~{website_b.estimate():.0f}\")\nprint(f\"Total unique users: ~{union.estimate():.0f}\")\nprint(f\"Users on both sites: ~{intersection.estimate():.0f}\")\nprint(f\"Users only on A: ~{a_only.estimate():.0f}\")"
  },
  {
   "cell_type": "markdown",
   "metadata": {},
   "source": [
    "## 5. Accuracy vs Precision Trade-off"
   ]
  },
  {
   "cell_type": "code",
   "metadata": {},
   "outputs": [],
   "source": "# Test different precision levels\nprecisions = [8, 10, 12, 14, 16]\nn_elements = 50000\nresults = []\n\nfor p in precisions:\n    hll = sketches.HllSketch(p)  # lg_k parameter\n    for i in range(n_elements):\n        hll.update(f\"element_{i}\")\n    \n    estimate = hll.estimate()\n    error = abs(estimate - n_elements) / n_elements * 100\n    memory = len(hll.to_bytes())\n    \n    results.append({\n        'precision': p,\n        'estimate': estimate,\n        'error_pct': error,\n        'memory_bytes': memory\n    })\n\ndf = pl.DataFrame(results)\nprint(df)\n\n# Visualize trade-off\nfig, (ax1, ax2) = plt.subplots(1, 2, figsize=(12, 4))\n\nprecisions_data = df['precision'].to_numpy()\nerrors_data = df['error_pct'].to_numpy()\nmemory_data = df['memory_bytes'].to_numpy()\n\nax1.plot(precisions_data, errors_data, 'b-o')\nax1.set_xlabel('Precision')\nax1.set_ylabel('Error %')\nax1.set_title('Precision vs Accuracy')\nax1.grid(True)\n\nax2.plot(precisions_data, memory_data, 'r-o')\nax2.set_xlabel('Precision')\nax2.set_ylabel('Memory (bytes)')\nax2.set_title('Precision vs Memory Usage')\nax2.grid(True)\n\nplt.tight_layout()\nplt.show()"
  }
 ],
 "metadata": {
  "kernelspec": {
   "display_name": "Python 3",
   "language": "python",
   "name": "python3"
  },
  "language_info": {
   "codemirror_mode": {
    "name": "ipython",
    "version": 3
   },
   "file_extension": ".py",
   "mimetype": "text/x-python",
   "name": "python",
   "nbconvert_exporter": "python",
   "pygments_lexer": "ipython3",
   "version": "3.8.0"
  }
 },
 "nbformat": 4,
 "nbformat_minor": 4
}